{
 "cells": [
  {
   "cell_type": "code",
   "execution_count": 1,
   "id": "2d8359dd",
   "metadata": {},
   "outputs": [
    {
     "name": "stderr",
     "output_type": "stream",
     "text": [
      "No GPU/TPU found, falling back to CPU. (Set TF_CPP_MIN_LOG_LEVEL=0 and rerun for more info.)\n"
     ]
    }
   ],
   "source": [
    "import numpy as np\n",
    "import jax.numpy as jnp\n",
    "import jaxopt\n",
    "\n",
    "from itertools import product\n",
    "\n",
    "from pointscat.forward_problem import PointScatteringProblem, compute_far_field\n",
    "from pointscat.inverse_problem import unif_sample_disk, DiscreteMeasure\n",
    "\n",
    "from jax.config import config\n",
    "config.update(\"jax_enable_x64\", True)\n",
    "\n",
    "np.random.seed(0)"
   ]
  },
  {
   "cell_type": "code",
   "execution_count": 2,
   "id": "c69eae25",
   "metadata": {},
   "outputs": [],
   "source": [
    "amplitudes = np.array([0.5, 2, 1])\n",
    "locations = np.array([[-3.3, -3.7], [-2.8, 3.5], [3.2, 2.6]])\n",
    "wave_number = 1\n",
    "point_scat = PointScatteringProblem(locations, amplitudes, wave_number)"
   ]
  },
  {
   "cell_type": "code",
   "execution_count": 3,
   "id": "4cdb51eb",
   "metadata": {},
   "outputs": [],
   "source": [
    "box_size = 10  # locations should belong to (-box_size/2,box_size/2)\n",
    "num_frequencies = 10\n",
    "cutoff_frequency = 2 * wave_number\n",
    "frequencies = unif_sample_disk(num_frequencies, cutoff_frequency)"
   ]
  },
  {
   "cell_type": "code",
   "execution_count": 4,
   "id": "be9dd0a5",
   "metadata": {},
   "outputs": [],
   "source": [
    "incident_angles = np.array([np.pi + np.angle(k[0]+1j*k[1]) - np.arccos(np.linalg.norm(k)/(2*wave_number))\n",
    "                            for k in frequencies])\n",
    "observation_directions = np.array([np.angle(k[0]+1j*k[1]) + np.arccos(np.linalg.norm(k)/(2*wave_number))\n",
    "                                   for k in frequencies])\n",
    "\n",
    "far_field = point_scat.compute_far_field(incident_angles, observation_directions)\n",
    "obs = np.concatenate([np.real(far_field), -np.imag(far_field)])"
   ]
  },
  {
   "cell_type": "code",
   "execution_count": 5,
   "id": "2289a9af",
   "metadata": {},
   "outputs": [],
   "source": [
    "x_tab = np.linspace(-box_size/2, box_size/2, 3)\n",
    "init_locations = np.array([[x_1, x_2] for (x_1, x_2) in product(x_tab, x_tab)])\n",
    "init_amplitudes = np.array([0.5, 2, 1, 0, 0, 0, 0, 0, 0])"
   ]
  },
  {
   "cell_type": "code",
   "execution_count": 6,
   "id": "4b9d9d93",
   "metadata": {},
   "outputs": [],
   "source": [
    "init_locations[0] = locations[0]\n",
    "init_locations[1] = locations[1]\n",
    "init_locations[2] = locations[2]"
   ]
  },
  {
   "cell_type": "code",
   "execution_count": 7,
   "id": "3fe12f3c",
   "metadata": {},
   "outputs": [],
   "source": [
    "estimated_measure = DiscreteMeasure(init_locations, init_amplitudes)"
   ]
  },
  {
   "cell_type": "code",
   "execution_count": 8,
   "id": "1c0b7327",
   "metadata": {},
   "outputs": [],
   "source": [
    "num_spikes = len(init_amplitudes)\n",
    "\n",
    "def sliding_obj(amplitudes):\n",
    "    far_field = compute_far_field(init_locations, amplitudes, wave_number, incident_angles, observation_directions)\n",
    "    image = jnp.concatenate([jnp.real(far_field), -jnp.imag(far_field)])  # TODO: fix ugly\n",
    "\n",
    "    return jnp.sum((image - obs)**2) / 2\n",
    "\n",
    "# vector of initial parameters\n",
    "# TODO: fix ugly conversion\n",
    "x_0 = jnp.array(init_amplitudes, dtype='float64')\n",
    "\n",
    "bounds = jnp.inf * jnp.ones(num_spikes)\n",
    "solver = jaxopt.LBFGSB(fun=sliding_obj)"
   ]
  },
  {
   "cell_type": "code",
   "execution_count": null,
   "id": "46243998",
   "metadata": {},
   "outputs": [],
   "source": [
    "params, state = solver.run(x_0, bounds=(-bounds, bounds))"
   ]
  },
  {
   "cell_type": "code",
   "execution_count": null,
   "id": "8602dbd1",
   "metadata": {},
   "outputs": [],
   "source": [
    "params"
   ]
  },
  {
   "cell_type": "markdown",
   "id": "0dc8e093",
   "metadata": {},
   "source": [
    "Problem seems to be huge memory/time cost of jitting the gradient of the objective"
   ]
  }
 ],
 "metadata": {
  "kernelspec": {
   "display_name": "point_scattering_kernel",
   "language": "python",
   "name": "point_scattering_kernel"
  },
  "language_info": {
   "codemirror_mode": {
    "name": "ipython",
    "version": 3
   },
   "file_extension": ".py",
   "mimetype": "text/x-python",
   "name": "python",
   "nbconvert_exporter": "python",
   "pygments_lexer": "ipython3",
   "version": "3.8.16"
  }
 },
 "nbformat": 4,
 "nbformat_minor": 5
}
