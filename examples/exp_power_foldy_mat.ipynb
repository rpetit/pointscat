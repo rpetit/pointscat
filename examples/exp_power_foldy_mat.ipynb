{
 "cells": [
  {
   "cell_type": "code",
   "execution_count": 5,
   "id": "0d308f18",
   "metadata": {},
   "outputs": [],
   "source": [
    "import numpy as np\n",
    "import jax.numpy as jnp\n",
    "\n",
    "from pointscat.forward_problem import compute_foldy_matrix, PointScatteringProblem\n",
    "\n",
    "from jax.config import config\n",
    "config.update(\"jax_enable_x64\", True)"
   ]
  },
  {
   "cell_type": "code",
   "execution_count": 20,
   "id": "2818d950",
   "metadata": {},
   "outputs": [],
   "source": [
    "amplitudes = np.array([0.1, 2, 1])\n",
    "locations = np.array([[-3.3, -3.7], [-2.8, 3.5], [3.2, 2.6]])\n",
    "wave_number = 1\n",
    "point_scat = PointScatteringProblem(locations, amplitudes, wave_number)\n",
    "\n",
    "num_scatterers = len(amplitudes)"
   ]
  },
  {
   "cell_type": "code",
   "execution_count": 21,
   "id": "c5850aea",
   "metadata": {},
   "outputs": [],
   "source": [
    "foldy_mat = point_scat.compute_foldy_matrix()"
   ]
  },
  {
   "cell_type": "code",
   "execution_count": 22,
   "id": "81cabdf5",
   "metadata": {},
   "outputs": [],
   "source": [
    "t_mat = 1/wave_number**2 * (jnp.eye(num_scatterers) - foldy_mat)"
   ]
  },
  {
   "cell_type": "code",
   "execution_count": 26,
   "id": "b1947d18",
   "metadata": {},
   "outputs": [
    {
     "name": "stdout",
     "output_type": "stream",
     "text": [
      "[[0.         0.14832531 0.06624926]\n",
      " [0.00741627 0.         0.08085001]\n",
      " [0.00662493 0.16170002 0.        ]]\n"
     ]
    }
   ],
   "source": [
    "print(jnp.abs(t_mat))"
   ]
  },
  {
   "cell_type": "code",
   "execution_count": 24,
   "id": "39eebeeb",
   "metadata": {},
   "outputs": [
    {
     "name": "stdout",
     "output_type": "stream",
     "text": [
      "[[0.00075622 0.01071251 0.0119921 ]\n",
      " [0.00053563 0.0123619  0.00049132]\n",
      " [0.00119921 0.00098264 0.01349336]]\n"
     ]
    }
   ],
   "source": [
    "print(jnp.abs(jnp.linalg.matrix_power(t_mat, 2)))"
   ]
  },
  {
   "cell_type": "code",
   "execution_count": 25,
   "id": "507a7270",
   "metadata": {},
   "outputs": [
    {
     "name": "stdout",
     "output_type": "stream",
     "text": [
      "[[1.58893573e-04 1.89451128e-03 8.46180380e-04]\n",
      " [9.47255642e-05 1.58893573e-04 1.03267105e-03]\n",
      " [8.46180380e-05 2.06534210e-03 1.58893573e-04]]\n"
     ]
    }
   ],
   "source": [
    "print(jnp.abs(jnp.linalg.matrix_power(t_mat, 3)))"
   ]
  }
 ],
 "metadata": {
  "kernelspec": {
   "display_name": "point_scattering_kernel",
   "language": "python",
   "name": "point_scattering_kernel"
  },
  "language_info": {
   "codemirror_mode": {
    "name": "ipython",
    "version": 3
   },
   "file_extension": ".py",
   "mimetype": "text/x-python",
   "name": "python",
   "nbconvert_exporter": "python",
   "pygments_lexer": "ipython3",
   "version": "3.8.16"
  }
 },
 "nbformat": 4,
 "nbformat_minor": 5
}
