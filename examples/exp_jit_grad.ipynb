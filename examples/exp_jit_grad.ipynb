{
 "cells": [
  {
   "cell_type": "code",
   "execution_count": 1,
   "id": "f5bb7eda",
   "metadata": {},
   "outputs": [
    {
     "name": "stderr",
     "output_type": "stream",
     "text": [
      "No GPU/TPU found, falling back to CPU. (Set TF_CPP_MIN_LOG_LEVEL=0 and rerun for more info.)\n"
     ]
    }
   ],
   "source": [
    "import time\n",
    "import numpy as np\n",
    "\n",
    "import jax\n",
    "import jax.numpy as jnp\n",
    "\n",
    "from pointscat.hankel import h0\n",
    "from pointscat.forward_problem import compute_foldy_matrix\n",
    "\n",
    "from jax.config import config\n",
    "config.update(\"jax_enable_x64\", True)"
   ]
  },
  {
   "cell_type": "code",
   "execution_count": 2,
   "id": "dacba59c",
   "metadata": {},
   "outputs": [],
   "source": [
    "# setting problem\n",
    "amplitudes = 1 * np.array([1, 2, 1, 0.5, 3, 1, 0.6, 2])\n",
    "locations = 0.4 * np.array([[-4.3, -4.7], [-4.0, 4.5], [4.2, 3.6], [0, 0], [2.5, 2.1], [-1.2, 3.4],\n",
    "                            [-1/0.4, 1/0.4], [1/0.4, -1/0.4]])\n",
    "wave_number = 1"
   ]
  },
  {
   "cell_type": "markdown",
   "id": "fcd8c462",
   "metadata": {},
   "source": [
    "Green function"
   ]
  },
  {
   "cell_type": "code",
   "execution_count": 3,
   "id": "f7dad7d1",
   "metadata": {},
   "outputs": [],
   "source": [
    "def g(x, y):\n",
    "    assert jnp.ndim(x) == jnp.ndim(y)\n",
    "    assert x.shape[-1] == y.shape[-1] == 2\n",
    "\n",
    "    if jnp.ndim(x) == 1:\n",
    "        return 1j/4 * h0(wave_number * jnp.linalg.norm(x-y))\n",
    "    else:\n",
    "        return 1j/4 * h0(wave_number * jnp.linalg.norm(x[:, jnp.newaxis] - y[jnp.newaxis, :], axis=-1))"
   ]
  },
  {
   "cell_type": "code",
   "execution_count": 4,
   "id": "a3924c97",
   "metadata": {},
   "outputs": [],
   "source": [
    "def h(x, y):\n",
    "    return 1j/4 * h0(wave_number * jnp.linalg.norm(x[:, jnp.newaxis] - y[jnp.newaxis, :], axis=-1))"
   ]
  },
  {
   "cell_type": "code",
   "execution_count": 5,
   "id": "36b259df",
   "metadata": {},
   "outputs": [],
   "source": [
    "jit_g = jax.jit(g)\n",
    "jit_h = jax.jit(h)"
   ]
  },
  {
   "cell_type": "code",
   "execution_count": 6,
   "id": "af4f7316",
   "metadata": {},
   "outputs": [],
   "source": [
    "x, y = np.random.random((1000, 2)), np.random.random((1000, 2))"
   ]
  },
  {
   "cell_type": "code",
   "execution_count": 7,
   "id": "d79d2a98",
   "metadata": {},
   "outputs": [
    {
     "name": "stdout",
     "output_type": "stream",
     "text": [
      "252 ms ± 10.1 ms per loop (mean ± std. dev. of 7 runs, 1 loop each)\n"
     ]
    }
   ],
   "source": [
    "%timeit g(x, y)"
   ]
  },
  {
   "cell_type": "code",
   "execution_count": 8,
   "id": "8e51a511",
   "metadata": {},
   "outputs": [
    {
     "name": "stdout",
     "output_type": "stream",
     "text": [
      "CPU times: user 454 ms, sys: 49.5 ms, total: 503 ms\n",
      "Wall time: 365 ms\n"
     ]
    }
   ],
   "source": [
    "%time jit_g(x, y);"
   ]
  },
  {
   "cell_type": "code",
   "execution_count": 9,
   "id": "753557d3",
   "metadata": {},
   "outputs": [
    {
     "name": "stdout",
     "output_type": "stream",
     "text": [
      "13.3 ms ± 1.19 ms per loop (mean ± std. dev. of 7 runs, 100 loops each)\n"
     ]
    }
   ],
   "source": [
    "%timeit jit_g(x, y)"
   ]
  },
  {
   "cell_type": "code",
   "execution_count": 10,
   "id": "bac52d20",
   "metadata": {},
   "outputs": [
    {
     "name": "stdout",
     "output_type": "stream",
     "text": [
      "CPU times: user 365 ms, sys: 7.02 ms, total: 372 ms\n",
      "Wall time: 282 ms\n"
     ]
    }
   ],
   "source": [
    "%time jit_h(x, y);"
   ]
  },
  {
   "cell_type": "code",
   "execution_count": 11,
   "id": "a4924c67",
   "metadata": {},
   "outputs": [
    {
     "name": "stdout",
     "output_type": "stream",
     "text": [
      "13.5 ms ± 850 µs per loop (mean ± std. dev. of 7 runs, 100 loops each)\n"
     ]
    }
   ],
   "source": [
    "%timeit jit_h(x, y)"
   ]
  },
  {
   "cell_type": "markdown",
   "id": "f4c2c73f",
   "metadata": {},
   "source": [
    "Green function computation seems OK"
   ]
  },
  {
   "cell_type": "markdown",
   "id": "8b71bf5d",
   "metadata": {},
   "source": [
    "Compute Foldy matrix"
   ]
  },
  {
   "cell_type": "code",
   "execution_count": 50,
   "id": "73cc036e",
   "metadata": {},
   "outputs": [],
   "source": [
    "def f(x, a):\n",
    "    norm = jnp.linalg.norm(x[:, jnp.newaxis, :] - x[jnp.newaxis, :, :], axis=-1)\n",
    "    res = jnp.where(norm == 0, 0, -wave_number**2 * 1j/4 * h0(wave_number * norm))\n",
    "    res = jnp.dot(res, jnp.diag(a)) + jnp.eye(len(a))\n",
    "    return res"
   ]
  },
  {
   "cell_type": "code",
   "execution_count": 57,
   "id": "1eca7cc3",
   "metadata": {},
   "outputs": [
    {
     "name": "stdout",
     "output_type": "stream",
     "text": [
      "True\n"
     ]
    }
   ],
   "source": [
    "a = f(locations, amplitudes)\n",
    "b = compute_foldy_matrix(locations, amplitudes, wave_number)\n",
    "print(np.allclose(a, b))"
   ]
  },
  {
   "cell_type": "code",
   "execution_count": 58,
   "id": "b8889d59",
   "metadata": {},
   "outputs": [],
   "source": [
    "jit_f = jax.jit(f)"
   ]
  },
  {
   "cell_type": "code",
   "execution_count": 59,
   "id": "d0b73e84",
   "metadata": {},
   "outputs": [
    {
     "name": "stdout",
     "output_type": "stream",
     "text": [
      "0.31208205223083496\n"
     ]
    }
   ],
   "source": [
    "start = time.time()\n",
    "jit_f(locations, amplitudes)\n",
    "stop = time.time()\n",
    "print(stop-start)"
   ]
  },
  {
   "cell_type": "code",
   "execution_count": 60,
   "id": "b2f9454a",
   "metadata": {},
   "outputs": [
    {
     "name": "stdout",
     "output_type": "stream",
     "text": [
      "1.01 ms ± 11.6 µs per loop (mean ± std. dev. of 7 runs, 1,000 loops each)\n"
     ]
    }
   ],
   "source": [
    "%timeit f(locations, amplitudes)"
   ]
  },
  {
   "cell_type": "code",
   "execution_count": 61,
   "id": "6bab9eea",
   "metadata": {},
   "outputs": [
    {
     "name": "stdout",
     "output_type": "stream",
     "text": [
      "9.3 µs ± 23.1 ns per loop (mean ± std. dev. of 7 runs, 100,000 loops each)\n"
     ]
    }
   ],
   "source": [
    "%timeit jit_f(locations, amplitudes)"
   ]
  },
  {
   "cell_type": "code",
   "execution_count": 62,
   "id": "0bf55184",
   "metadata": {},
   "outputs": [
    {
     "name": "stdout",
     "output_type": "stream",
     "text": [
      "14.683596134185791\n"
     ]
    }
   ],
   "source": [
    "start = time.time()\n",
    "jax.jit(compute_foldy_matrix)(locations, amplitudes, wave_number)\n",
    "stop = time.time()\n",
    "print(stop-start)"
   ]
  },
  {
   "cell_type": "code",
   "execution_count": 63,
   "id": "4320ed40",
   "metadata": {},
   "outputs": [
    {
     "name": "stdout",
     "output_type": "stream",
     "text": [
      "99.3 µs ± 743 ns per loop (mean ± std. dev. of 7 runs, 10,000 loops each)\n"
     ]
    }
   ],
   "source": [
    "%timeit jax.jit(compute_foldy_matrix)(locations, amplitudes, wave_number)"
   ]
  },
  {
   "cell_type": "markdown",
   "id": "26553871",
   "metadata": {},
   "source": [
    "Jacobian of compute Foldy matrix"
   ]
  },
  {
   "cell_type": "code",
   "execution_count": 64,
   "id": "95206450",
   "metadata": {},
   "outputs": [],
   "source": [
    "jac_f = jax.jacfwd(f, argnums=(0, 1))"
   ]
  },
  {
   "cell_type": "code",
   "execution_count": 65,
   "id": "bfb817be",
   "metadata": {},
   "outputs": [
    {
     "name": "stdout",
     "output_type": "stream",
     "text": [
      "75.7 ms ± 1.43 ms per loop (mean ± std. dev. of 7 runs, 1 loop each)\n"
     ]
    }
   ],
   "source": [
    "%timeit jac_f(locations, amplitudes)"
   ]
  },
  {
   "cell_type": "code",
   "execution_count": 67,
   "id": "367605ed",
   "metadata": {},
   "outputs": [],
   "source": [
    "jac_compute_foldy_matrix = jax.jacfwd(compute_foldy_matrix, argnums=(0, 1))"
   ]
  },
  {
   "cell_type": "code",
   "execution_count": 68,
   "id": "5abf873d",
   "metadata": {},
   "outputs": [
    {
     "name": "stdout",
     "output_type": "stream",
     "text": [
      "3.86 s ± 75.8 ms per loop (mean ± std. dev. of 7 runs, 1 loop each)\n"
     ]
    }
   ],
   "source": [
    "%timeit jac_compute_foldy_matrix(locations, amplitudes, wave_number)"
   ]
  },
  {
   "cell_type": "code",
   "execution_count": 69,
   "id": "164ebbe7",
   "metadata": {},
   "outputs": [
    {
     "name": "stdout",
     "output_type": "stream",
     "text": [
      "0.8016571998596191\n"
     ]
    }
   ],
   "source": [
    "start = time.time()\n",
    "jax.jit(jac_f)(locations, amplitudes)\n",
    "stop = time.time()\n",
    "print(stop-start)"
   ]
  },
  {
   "cell_type": "code",
   "execution_count": 70,
   "id": "bd3160d7",
   "metadata": {},
   "outputs": [
    {
     "name": "stdout",
     "output_type": "stream",
     "text": [
      "205 µs ± 17.9 µs per loop (mean ± std. dev. of 7 runs, 1,000 loops each)\n"
     ]
    }
   ],
   "source": [
    "%timeit jax.jit(jac_f)(locations, amplitudes)"
   ]
  },
  {
   "cell_type": "code",
   "execution_count": 71,
   "id": "fc0ad6c5",
   "metadata": {},
   "outputs": [
    {
     "name": "stdout",
     "output_type": "stream",
     "text": [
      "103.04824924468994\n"
     ]
    }
   ],
   "source": [
    "start = time.time()\n",
    "jax.jit(jac_compute_foldy_matrix)(locations, amplitudes, wave_number)\n",
    "stop = time.time()\n",
    "print(stop-start)"
   ]
  }
 ],
 "metadata": {
  "kernelspec": {
   "display_name": "point_scattering_kernel",
   "language": "python",
   "name": "point_scattering_kernel"
  },
  "language_info": {
   "codemirror_mode": {
    "name": "ipython",
    "version": 3
   },
   "file_extension": ".py",
   "mimetype": "text/x-python",
   "name": "python",
   "nbconvert_exporter": "python",
   "pygments_lexer": "ipython3",
   "version": "3.8.16"
  }
 },
 "nbformat": 4,
 "nbformat_minor": 5
}
