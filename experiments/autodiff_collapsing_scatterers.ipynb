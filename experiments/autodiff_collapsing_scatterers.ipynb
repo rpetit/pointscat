{
 "cells": [
  {
   "cell_type": "code",
   "execution_count": 8,
   "id": "c1b181ae",
   "metadata": {},
   "outputs": [],
   "source": [
    "import numpy as np\n",
    "import jax.numpy as jnp\n",
    "\n",
    "from jax import grad"
   ]
  },
  {
   "cell_type": "code",
   "execution_count": 16,
   "id": "91aeedf0",
   "metadata": {},
   "outputs": [],
   "source": [
    "def f(x):\n",
    "    return jnp.log(x)"
   ]
  },
  {
   "cell_type": "code",
   "execution_count": 29,
   "id": "87d70134",
   "metadata": {},
   "outputs": [],
   "source": [
    "def g(x):\n",
    "    return jnp.where(x > 0, 1/f(jnp.where(x > 0, x, 1)), 0)"
   ]
  },
  {
   "cell_type": "code",
   "execution_count": 30,
   "id": "9a0941ef",
   "metadata": {},
   "outputs": [],
   "source": [
    "grad_g = grad(g)"
   ]
  },
  {
   "cell_type": "code",
   "execution_count": 31,
   "id": "6b123ba0",
   "metadata": {},
   "outputs": [
    {
     "data": {
      "text/plain": [
       "Array(0., dtype=float32, weak_type=True)"
      ]
     },
     "execution_count": 31,
     "metadata": {},
     "output_type": "execute_result"
    }
   ],
   "source": [
    "grad_g(0.0)"
   ]
  }
 ],
 "metadata": {
  "kernelspec": {
   "display_name": "point_scattering_kernel",
   "language": "python",
   "name": "point_scattering_kernel"
  },
  "language_info": {
   "codemirror_mode": {
    "name": "ipython",
    "version": 3
   },
   "file_extension": ".py",
   "mimetype": "text/x-python",
   "name": "python",
   "nbconvert_exporter": "python",
   "pygments_lexer": "ipython3",
   "version": "3.8.16"
  }
 },
 "nbformat": 4,
 "nbformat_minor": 5
}
